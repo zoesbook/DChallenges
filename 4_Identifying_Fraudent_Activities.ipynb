{
 "cells": [
  {
   "cell_type": "markdown",
   "metadata": {},
   "source": [
    "**Problem**\n",
    "- E-commerce dealing with online transactions naturally be exposed to fraudent activities.(stolen credit cards, money laundary etc)\n",
    "- Company XYZ sell handmade clothes online.\n",
    "- The compnay wants a model that predict fraud of user first online transaction.\n",
    "\n",
    "**Goal**\n",
    "- Build a model to predict whether the user has a high probablity of using the site to perform some illegal activities or not.\n",
    "\n",
    "**Tasks**\n",
    "- determine user country based on her numerical IP address\n",
    "- Build a model to predict whether an activity is fraudent or not. Explain how different assumptions about the cost of FP vs FN impact the model.\n",
    "- From user perspective, interpret how the model make predictions. What kind of users are more likely to be considered with high risk? What are their characteristics?\n",
    "- If the model can be used in real-time and live predict fruad, from product perspective, how would you use the model? What kind of different user experience would you build based on the model output?\n",
    "\n",
    "**How I did it**\n",
    "- Task 1: write a binary search function and applied on the dataframe\n",
    "- Task 2: used logistic regression and confusion matrix\n",
    "- Task 3: intepret features by partial plots and visualizing tree main splits\n",
    "- Task 4: product sense on how to combine model with real world goals\n",
    "\n",
    "**Conclusions**\n",
    "- Fraudent activities can be related to the time difference between signup and purchase, if a device is used by multiple users, or if an ip is related to multiple users.\n",
    "- For this imbalanced dataset, oversampling the minority and building a random forest model gives out promising result.\n",
    "- For the fraud and risk context, the ultimate goal is really important guiding us to choose model or hyperparameters (e.g. FP or FN, which one is more related to our goal)\n",
    "- For the real-time product, we consider additional verification and manually review depend on the risk score (which is the probability of fraud in this case)."
   ]
  },
  {
   "cell_type": "code",
   "execution_count": 1,
   "metadata": {},
   "outputs": [],
   "source": [
    "# libraries and plots settings\n",
    "import numpy as np\n",
    "import pandas as pd\n",
    "import matplotlib.pyplot as plt\n",
    "%matplotlib inline\n",
    "import seaborn as sns\n",
    "\n",
    "from scipy import stats\n",
    "import statsmodels.api as sm\n",
    "\n",
    "# font = {'family' : 'normal',\n",
    "#         'weight' : 'bold',\n",
    "#         'size'   : 60}\n",
    "# sns.set_context(\"poster\")"
   ]
  },
  {
   "cell_type": "code",
   "execution_count": 3,
   "metadata": {},
   "outputs": [],
   "source": [
    "df_fraud = pd.read_csv('./Fraud_Data.csv')\n",
    "df_ip_country = pd.read_csv('./IpAddress_to_Country.csv')"
   ]
  },
  {
   "cell_type": "code",
   "execution_count": 4,
   "metadata": {},
   "outputs": [
    {
     "data": {
      "text/html": [
       "<div>\n",
       "<style scoped>\n",
       "    .dataframe tbody tr th:only-of-type {\n",
       "        vertical-align: middle;\n",
       "    }\n",
       "\n",
       "    .dataframe tbody tr th {\n",
       "        vertical-align: top;\n",
       "    }\n",
       "\n",
       "    .dataframe thead th {\n",
       "        text-align: right;\n",
       "    }\n",
       "</style>\n",
       "<table border=\"1\" class=\"dataframe\">\n",
       "  <thead>\n",
       "    <tr style=\"text-align: right;\">\n",
       "      <th></th>\n",
       "      <th>user_id</th>\n",
       "      <th>signup_time</th>\n",
       "      <th>purchase_time</th>\n",
       "      <th>purchase_value</th>\n",
       "      <th>device_id</th>\n",
       "      <th>source</th>\n",
       "      <th>browser</th>\n",
       "      <th>sex</th>\n",
       "      <th>age</th>\n",
       "      <th>ip_address</th>\n",
       "      <th>class</th>\n",
       "    </tr>\n",
       "  </thead>\n",
       "  <tbody>\n",
       "    <tr>\n",
       "      <th>0</th>\n",
       "      <td>22058</td>\n",
       "      <td>2015-02-24 22:55:49</td>\n",
       "      <td>2015-04-18 02:47:11</td>\n",
       "      <td>34</td>\n",
       "      <td>QVPSPJUOCKZAR</td>\n",
       "      <td>SEO</td>\n",
       "      <td>Chrome</td>\n",
       "      <td>M</td>\n",
       "      <td>39</td>\n",
       "      <td>7.327584e+08</td>\n",
       "      <td>0</td>\n",
       "    </tr>\n",
       "    <tr>\n",
       "      <th>1</th>\n",
       "      <td>333320</td>\n",
       "      <td>2015-06-07 20:39:50</td>\n",
       "      <td>2015-06-08 01:38:54</td>\n",
       "      <td>16</td>\n",
       "      <td>EOGFQPIZPYXFZ</td>\n",
       "      <td>Ads</td>\n",
       "      <td>Chrome</td>\n",
       "      <td>F</td>\n",
       "      <td>53</td>\n",
       "      <td>3.503114e+08</td>\n",
       "      <td>0</td>\n",
       "    </tr>\n",
       "    <tr>\n",
       "      <th>2</th>\n",
       "      <td>1359</td>\n",
       "      <td>2015-01-01 18:52:44</td>\n",
       "      <td>2015-01-01 18:52:45</td>\n",
       "      <td>15</td>\n",
       "      <td>YSSKYOSJHPPLJ</td>\n",
       "      <td>SEO</td>\n",
       "      <td>Opera</td>\n",
       "      <td>M</td>\n",
       "      <td>53</td>\n",
       "      <td>2.621474e+09</td>\n",
       "      <td>1</td>\n",
       "    </tr>\n",
       "    <tr>\n",
       "      <th>3</th>\n",
       "      <td>150084</td>\n",
       "      <td>2015-04-28 21:13:25</td>\n",
       "      <td>2015-05-04 13:54:50</td>\n",
       "      <td>44</td>\n",
       "      <td>ATGTXKYKUDUQN</td>\n",
       "      <td>SEO</td>\n",
       "      <td>Safari</td>\n",
       "      <td>M</td>\n",
       "      <td>41</td>\n",
       "      <td>3.840542e+09</td>\n",
       "      <td>0</td>\n",
       "    </tr>\n",
       "    <tr>\n",
       "      <th>4</th>\n",
       "      <td>221365</td>\n",
       "      <td>2015-07-21 07:09:52</td>\n",
       "      <td>2015-09-09 18:40:53</td>\n",
       "      <td>39</td>\n",
       "      <td>NAUITBZFJKHWW</td>\n",
       "      <td>Ads</td>\n",
       "      <td>Safari</td>\n",
       "      <td>M</td>\n",
       "      <td>45</td>\n",
       "      <td>4.155831e+08</td>\n",
       "      <td>0</td>\n",
       "    </tr>\n",
       "  </tbody>\n",
       "</table>\n",
       "</div>"
      ],
      "text/plain": [
       "   user_id          signup_time        purchase_time  purchase_value  \\\n",
       "0    22058  2015-02-24 22:55:49  2015-04-18 02:47:11              34   \n",
       "1   333320  2015-06-07 20:39:50  2015-06-08 01:38:54              16   \n",
       "2     1359  2015-01-01 18:52:44  2015-01-01 18:52:45              15   \n",
       "3   150084  2015-04-28 21:13:25  2015-05-04 13:54:50              44   \n",
       "4   221365  2015-07-21 07:09:52  2015-09-09 18:40:53              39   \n",
       "\n",
       "       device_id source browser sex  age    ip_address  class  \n",
       "0  QVPSPJUOCKZAR    SEO  Chrome   M   39  7.327584e+08      0  \n",
       "1  EOGFQPIZPYXFZ    Ads  Chrome   F   53  3.503114e+08      0  \n",
       "2  YSSKYOSJHPPLJ    SEO   Opera   M   53  2.621474e+09      1  \n",
       "3  ATGTXKYKUDUQN    SEO  Safari   M   41  3.840542e+09      0  \n",
       "4  NAUITBZFJKHWW    Ads  Safari   M   45  4.155831e+08      0  "
      ]
     },
     "execution_count": 4,
     "metadata": {},
     "output_type": "execute_result"
    }
   ],
   "source": [
    "df_fraud.head()"
   ]
  },
  {
   "cell_type": "code",
   "execution_count": 5,
   "metadata": {},
   "outputs": [
    {
     "data": {
      "text/html": [
       "<div>\n",
       "<style scoped>\n",
       "    .dataframe tbody tr th:only-of-type {\n",
       "        vertical-align: middle;\n",
       "    }\n",
       "\n",
       "    .dataframe tbody tr th {\n",
       "        vertical-align: top;\n",
       "    }\n",
       "\n",
       "    .dataframe thead th {\n",
       "        text-align: right;\n",
       "    }\n",
       "</style>\n",
       "<table border=\"1\" class=\"dataframe\">\n",
       "  <thead>\n",
       "    <tr style=\"text-align: right;\">\n",
       "      <th></th>\n",
       "      <th>lower_bound_ip_address</th>\n",
       "      <th>upper_bound_ip_address</th>\n",
       "      <th>country</th>\n",
       "    </tr>\n",
       "  </thead>\n",
       "  <tbody>\n",
       "    <tr>\n",
       "      <th>0</th>\n",
       "      <td>16777216.0</td>\n",
       "      <td>16777471</td>\n",
       "      <td>Australia</td>\n",
       "    </tr>\n",
       "    <tr>\n",
       "      <th>1</th>\n",
       "      <td>16777472.0</td>\n",
       "      <td>16777727</td>\n",
       "      <td>China</td>\n",
       "    </tr>\n",
       "    <tr>\n",
       "      <th>2</th>\n",
       "      <td>16777728.0</td>\n",
       "      <td>16778239</td>\n",
       "      <td>China</td>\n",
       "    </tr>\n",
       "    <tr>\n",
       "      <th>3</th>\n",
       "      <td>16778240.0</td>\n",
       "      <td>16779263</td>\n",
       "      <td>Australia</td>\n",
       "    </tr>\n",
       "    <tr>\n",
       "      <th>4</th>\n",
       "      <td>16779264.0</td>\n",
       "      <td>16781311</td>\n",
       "      <td>China</td>\n",
       "    </tr>\n",
       "  </tbody>\n",
       "</table>\n",
       "</div>"
      ],
      "text/plain": [
       "   lower_bound_ip_address  upper_bound_ip_address    country\n",
       "0              16777216.0                16777471  Australia\n",
       "1              16777472.0                16777727      China\n",
       "2              16777728.0                16778239      China\n",
       "3              16778240.0                16779263  Australia\n",
       "4              16779264.0                16781311      China"
      ]
     },
     "execution_count": 5,
     "metadata": {},
     "output_type": "execute_result"
    }
   ],
   "source": [
    "df_ip_country.head()"
   ]
  },
  {
   "cell_type": "code",
   "execution_count": 6,
   "metadata": {},
   "outputs": [
    {
     "data": {
      "text/plain": [
       "<matplotlib.axes._subplots.AxesSubplot at 0x1c1ad1a4a8>"
      ]
     },
     "execution_count": 6,
     "metadata": {},
     "output_type": "execute_result"
    },
    {
     "data": {
      "image/png": "[encoded data removed]",
      "text/plain": [
       "<Figure size 432x288 with 1 Axes>"
      ]
     },
     "metadata": {
      "needs_background": "light"
     },
     "output_type": "display_data"
    }
   ],
   "source": [
    "df_ip_country.groupby(['country']).size().sort_values(ascending = False).head(10).plot.bar()"
   ]
  },
  {
   "cell_type": "code",
   "execution_count": 7,
   "metadata": {},
   "outputs": [
    {
     "data": {
      "text/html": [
       "<div>\n",
       "<style scoped>\n",
       "    .dataframe tbody tr th:only-of-type {\n",
       "        vertical-align: middle;\n",
       "    }\n",
       "\n",
       "    .dataframe tbody tr th {\n",
       "        vertical-align: top;\n",
       "    }\n",
       "\n",
       "    .dataframe thead th {\n",
       "        text-align: right;\n",
       "    }\n",
       "</style>\n",
       "<table border=\"1\" class=\"dataframe\">\n",
       "  <thead>\n",
       "    <tr style=\"text-align: right;\">\n",
       "      <th></th>\n",
       "      <th>lower_bound_ip_address</th>\n",
       "      <th>upper_bound_ip_address</th>\n",
       "      <th>country</th>\n",
       "    </tr>\n",
       "  </thead>\n",
       "  <tbody>\n",
       "    <tr>\n",
       "      <th>145</th>\n",
       "      <td>50331648.0</td>\n",
       "      <td>67108863</td>\n",
       "      <td>United States</td>\n",
       "    </tr>\n",
       "    <tr>\n",
       "      <th>146</th>\n",
       "      <td>67108864.0</td>\n",
       "      <td>83886079</td>\n",
       "      <td>United States</td>\n",
       "    </tr>\n",
       "    <tr>\n",
       "      <th>667</th>\n",
       "      <td>93894656.0</td>\n",
       "      <td>93896703</td>\n",
       "      <td>United States</td>\n",
       "    </tr>\n",
       "    <tr>\n",
       "      <th>911</th>\n",
       "      <td>100663296.0</td>\n",
       "      <td>117440511</td>\n",
       "      <td>United States</td>\n",
       "    </tr>\n",
       "    <tr>\n",
       "      <th>912</th>\n",
       "      <td>117440512.0</td>\n",
       "      <td>134217727</td>\n",
       "      <td>United States</td>\n",
       "    </tr>\n",
       "  </tbody>\n",
       "</table>\n",
       "</div>"
      ],
      "text/plain": [
       "     lower_bound_ip_address  upper_bound_ip_address        country\n",
       "145              50331648.0                67108863  United States\n",
       "146              67108864.0                83886079  United States\n",
       "667              93894656.0                93896703  United States\n",
       "911             100663296.0               117440511  United States\n",
       "912             117440512.0               134217727  United States"
      ]
     },
     "execution_count": 7,
     "metadata": {},
     "output_type": "execute_result"
    }
   ],
   "source": [
    "df_ip_country[df_ip_country['country'] == 'United States'].sort_values(by=['lower_bound_ip_address', 'upper_bound_ip_address']).head()"
   ]
  },
  {
   "cell_type": "markdown",
   "metadata": {},
   "source": [
    "## check data"
   ]
  },
  {
   "cell_type": "code",
   "execution_count": 8,
   "metadata": {},
   "outputs": [
    {
     "name": "stdout",
     "output_type": "stream",
     "text": [
      "user_id           0.0\n",
      "signup_time       0.0\n",
      "purchase_time     0.0\n",
      "purchase_value    0.0\n",
      "device_id         0.0\n",
      "source            0.0\n",
      "browser           0.0\n",
      "sex               0.0\n",
      "age               0.0\n",
      "ip_address        0.0\n",
      "class             0.0\n",
      "dtype: float64\n",
      "lower_bound_ip_address    0.0\n",
      "upper_bound_ip_address    0.0\n",
      "country                   0.0\n",
      "dtype: float64\n"
     ]
    }
   ],
   "source": [
    "# missing values\n",
    "print(100*df_fraud.isna().sum()/len(df_fraud))\n",
    "print(100*df_ip_country.isna().sum()/len(df_ip_country))"
   ]
  },
  {
   "cell_type": "code",
   "execution_count": 9,
   "metadata": {},
   "outputs": [
    {
     "name": "stdout",
     "output_type": "stream",
     "text": [
      "151112\n",
      "138846\n"
     ]
    }
   ],
   "source": [
    "print(len(df_fraud))\n",
    "print(len(df_ip_country))"
   ]
  },
  {
   "cell_type": "markdown",
   "metadata": {},
   "source": [
    "## Task 1: Determine user country based on her numercial IP address"
   ]
  },
  {
   "cell_type": "code",
   "execution_count": 10,
   "metadata": {},
   "outputs": [
    {
     "data": {
      "text/plain": [
       "1    16777472.0\n",
       "Name: lower_bound_ip_address, dtype: float64"
      ]
     },
     "execution_count": 10,
     "metadata": {},
     "output_type": "execute_result"
    }
   ],
   "source": [
    "df_ip_country_sort = df_ip_country.sort_values(by=['lower_bound_ip_address', 'upper_bound_ip_address'])\n",
    "df_ip_country_sort.head()\n",
    "#the orginial dataset seems to be already sorted by lower and then upper ip\n",
    "df_ip_country_sort.iloc[[1]].lower_bound_ip_address"
   ]
  },
  {
   "cell_type": "code",
   "execution_count": 11,
   "metadata": {},
   "outputs": [],
   "source": [
    "def user_country(ip_address, df):\n",
    "    #binary search to determine user country\n",
    "    start, end = 0, len(df)-1\n",
    "    while start + 1 < end:\n",
    "        mid = (start + end)//2\n",
    "        if df.loc[mid, 'lower_bound_ip_address'] == ip_address:\n",
    "            return df_ip_country.loc[mid, 'country']\n",
    "        elif df.loc[mid, 'lower_bound_ip_address'] < ip_address:\n",
    "            start = mid\n",
    "        else:\n",
    "            end = mid\n",
    "    if df.loc[end, 'lower_bound_ip_address'] <= ip_address:\n",
    "        return df_ip_country.loc[end, 'country']\n",
    "    elif df.loc[start, 'lower_bound_ip_address'] <= ip_address:\n",
    "        return df_ip_country.loc[start, 'country']\n",
    "    \n",
    "   "
   ]
  },
  {
   "cell_type": "code",
   "execution_count": 12,
   "metadata": {},
   "outputs": [],
   "source": [
    "df = df_fraud.copy()"
   ]
  },
  {
   "cell_type": "code",
   "execution_count": 13,
   "metadata": {},
   "outputs": [],
   "source": [
    "#print(user_country(7.327584e+08, df_ip_country_sort))\n",
    "df['country'] = df['ip_address'].apply(lambda x: user_country(x, df_ip_country))"
   ]
  },
  {
   "cell_type": "code",
   "execution_count": 14,
   "metadata": {},
   "outputs": [
    {
     "data": {
      "text/plain": [
       "user_id           0.000000\n",
       "signup_time       0.000000\n",
       "purchase_time     0.000000\n",
       "purchase_value    0.000000\n",
       "device_id         0.000000\n",
       "source            0.000000\n",
       "browser           0.000000\n",
       "sex               0.000000\n",
       "age               0.000000\n",
       "ip_address        0.000000\n",
       "class             0.000000\n",
       "country           0.419556\n",
       "dtype: float64"
      ]
     },
     "execution_count": 14,
     "metadata": {},
     "output_type": "execute_result"
    }
   ],
   "source": [
    "100*df.isna().sum()/len(df)"
   ]
  },
  {
   "cell_type": "markdown",
   "metadata": {},
   "source": [
    "why there is 42% missing value in the country column? Is there anything wrong with the function that assign the country according to ip address? since it only considered the lower boundary ip for the binary classification."
   ]
  },
  {
   "cell_type": "code",
   "execution_count": 15,
   "metadata": {},
   "outputs": [],
   "source": [
    "df = df.fillna('Not Found')\n",
    "if len(df['user_id'].unique()) == len(df): # if there is no duplicate in the user_id\n",
    "    df = df.drop(columns = ['user_id'])"
   ]
  },
  {
   "cell_type": "code",
   "execution_count": 16,
   "metadata": {},
   "outputs": [
    {
     "data": {
      "text/plain": [
       "<matplotlib.axes._subplots.AxesSubplot at 0x1c1adff9b0>"
      ]
     },
     "execution_count": 16,
     "metadata": {},
     "output_type": "execute_result"
    },
    {
     "data": {
      "image/png": "[encoded data removed]",
      "text/plain": [
       "<Figure size 432x288 with 1 Axes>"
      ]
     },
     "metadata": {
      "needs_background": "light"
     },
     "output_type": "display_data"
    }
   ],
   "source": [
    "df.groupby('class').size().plot.bar()"
   ]
  },
  {
   "cell_type": "markdown",
   "metadata": {},
   "source": [
    "The dataset is imbalanced. The fraudent class is minority. Building models on the orignal dataset and then oversample the minority to see any improvement.\n",
    "\n",
    "Before building the model, let's take a look and engineer some features first. If brainstroming on possible signals of fraudent activities, possible variables are:\n",
    "- **time interval** between signup time and first pruchase time (deduction)\n",
    "- if many different users are using the **same devices** (indicator variable on devices that being performed by many different users, or a variable that show the count of multiple users)\n",
    "- if many different users are using the **same ip address** (indicator variable on same ip address by different users, or a count show the number of multiple users)\n",
    "- if the transactions occured at **normal human activities hours** (e.g. people rarely make normal transactions during 2am-4am without website campinage and transactions may also not frequent during busy working hours)"
   ]
  },
  {
   "cell_type": "code",
   "execution_count": 17,
   "metadata": {},
   "outputs": [
    {
     "data": {
      "text/html": [
       "<div>\n",
       "<style scoped>\n",
       "    .dataframe tbody tr th:only-of-type {\n",
       "        vertical-align: middle;\n",
       "    }\n",
       "\n",
       "    .dataframe tbody tr th {\n",
       "        vertical-align: top;\n",
       "    }\n",
       "\n",
       "    .dataframe thead th {\n",
       "        text-align: right;\n",
       "    }\n",
       "</style>\n",
       "<table border=\"1\" class=\"dataframe\">\n",
       "  <thead>\n",
       "    <tr style=\"text-align: right;\">\n",
       "      <th></th>\n",
       "      <th>signup_time</th>\n",
       "      <th>purchase_time</th>\n",
       "      <th>purchase_value</th>\n",
       "      <th>device_id</th>\n",
       "      <th>source</th>\n",
       "      <th>browser</th>\n",
       "      <th>sex</th>\n",
       "      <th>age</th>\n",
       "      <th>ip_address</th>\n",
       "      <th>class</th>\n",
       "      <th>country</th>\n",
       "    </tr>\n",
       "  </thead>\n",
       "  <tbody>\n",
       "    <tr>\n",
       "      <th>0</th>\n",
       "      <td>2015-02-24 22:55:49</td>\n",
       "      <td>2015-04-18 02:47:11</td>\n",
       "      <td>34</td>\n",
       "      <td>QVPSPJUOCKZAR</td>\n",
       "      <td>SEO</td>\n",
       "      <td>Chrome</td>\n",
       "      <td>M</td>\n",
       "      <td>39</td>\n",
       "      <td>7.327584e+08</td>\n",
       "      <td>0</td>\n",
       "      <td>Japan</td>\n",
       "    </tr>\n",
       "    <tr>\n",
       "      <th>1</th>\n",
       "      <td>2015-06-07 20:39:50</td>\n",
       "      <td>2015-06-08 01:38:54</td>\n",
       "      <td>16</td>\n",
       "      <td>EOGFQPIZPYXFZ</td>\n",
       "      <td>Ads</td>\n",
       "      <td>Chrome</td>\n",
       "      <td>F</td>\n",
       "      <td>53</td>\n",
       "      <td>3.503114e+08</td>\n",
       "      <td>0</td>\n",
       "      <td>United States</td>\n",
       "    </tr>\n",
       "  </tbody>\n",
       "</table>\n",
       "</div>"
      ],
      "text/plain": [
       "           signup_time        purchase_time  purchase_value      device_id  \\\n",
       "0  2015-02-24 22:55:49  2015-04-18 02:47:11              34  QVPSPJUOCKZAR   \n",
       "1  2015-06-07 20:39:50  2015-06-08 01:38:54              16  EOGFQPIZPYXFZ   \n",
       "\n",
       "  source browser sex  age    ip_address  class        country  \n",
       "0    SEO  Chrome   M   39  7.327584e+08      0          Japan  \n",
       "1    Ads  Chrome   F   53  3.503114e+08      0  United States  "
      ]
     },
     "execution_count": 17,
     "metadata": {},
     "output_type": "execute_result"
    }
   ],
   "source": [
    "df.head(2)"
   ]
  },
  {
   "cell_type": "code",
   "execution_count": 18,
   "metadata": {},
   "outputs": [],
   "source": [
    "df['purchase_signup_diff'] = (pd.to_datetime(df['purchase_time'])-  pd.to_datetime(df['signup_time'])).astype('timedelta64[s]')"
   ]
  },
  {
   "cell_type": "code",
   "execution_count": 19,
   "metadata": {},
   "outputs": [
    {
     "data": {
      "text/html": [
       "<div>\n",
       "<style scoped>\n",
       "    .dataframe tbody tr th:only-of-type {\n",
       "        vertical-align: middle;\n",
       "    }\n",
       "\n",
       "    .dataframe tbody tr th {\n",
       "        vertical-align: top;\n",
       "    }\n",
       "\n",
       "    .dataframe thead th {\n",
       "        text-align: right;\n",
       "    }\n",
       "</style>\n",
       "<table border=\"1\" class=\"dataframe\">\n",
       "  <thead>\n",
       "    <tr style=\"text-align: right;\">\n",
       "      <th></th>\n",
       "      <th>signup_time</th>\n",
       "      <th>purchase_time</th>\n",
       "      <th>purchase_value</th>\n",
       "      <th>device_id</th>\n",
       "      <th>source</th>\n",
       "      <th>browser</th>\n",
       "      <th>sex</th>\n",
       "      <th>age</th>\n",
       "      <th>ip_address</th>\n",
       "      <th>class</th>\n",
       "      <th>country</th>\n",
       "      <th>purchase_signup_diff</th>\n",
       "    </tr>\n",
       "  </thead>\n",
       "  <tbody>\n",
       "    <tr>\n",
       "      <th>128682</th>\n",
       "      <td>2015-01-11 19:11:15</td>\n",
       "      <td>2015-01-11 19:11:16</td>\n",
       "      <td>13</td>\n",
       "      <td>XGLHXETOONGJR</td>\n",
       "      <td>SEO</td>\n",
       "      <td>FireFox</td>\n",
       "      <td>F</td>\n",
       "      <td>26</td>\n",
       "      <td>1.080791e+09</td>\n",
       "      <td>1</td>\n",
       "      <td>United States</td>\n",
       "      <td>1.0</td>\n",
       "    </tr>\n",
       "    <tr>\n",
       "      <th>7372</th>\n",
       "      <td>2015-01-09 19:19:08</td>\n",
       "      <td>2015-01-09 19:19:09</td>\n",
       "      <td>62</td>\n",
       "      <td>IVCMLWTZIZKBS</td>\n",
       "      <td>Ads</td>\n",
       "      <td>Chrome</td>\n",
       "      <td>F</td>\n",
       "      <td>24</td>\n",
       "      <td>1.804099e+09</td>\n",
       "      <td>1</td>\n",
       "      <td>United States</td>\n",
       "      <td>1.0</td>\n",
       "    </tr>\n",
       "    <tr>\n",
       "      <th>92770</th>\n",
       "      <td>2015-01-03 05:31:38</td>\n",
       "      <td>2015-01-03 05:31:39</td>\n",
       "      <td>27</td>\n",
       "      <td>VLNELJEFKHYNR</td>\n",
       "      <td>SEO</td>\n",
       "      <td>FireFox</td>\n",
       "      <td>M</td>\n",
       "      <td>29</td>\n",
       "      <td>2.456795e+09</td>\n",
       "      <td>1</td>\n",
       "      <td>United States</td>\n",
       "      <td>1.0</td>\n",
       "    </tr>\n",
       "    <tr>\n",
       "      <th>15041</th>\n",
       "      <td>2015-01-12 03:42:47</td>\n",
       "      <td>2015-01-12 03:42:48</td>\n",
       "      <td>69</td>\n",
       "      <td>HCYSLYNRFLAXU</td>\n",
       "      <td>Ads</td>\n",
       "      <td>Chrome</td>\n",
       "      <td>F</td>\n",
       "      <td>34</td>\n",
       "      <td>1.599329e+09</td>\n",
       "      <td>1</td>\n",
       "      <td>Ireland</td>\n",
       "      <td>1.0</td>\n",
       "    </tr>\n",
       "    <tr>\n",
       "      <th>48807</th>\n",
       "      <td>2015-01-03 10:15:59</td>\n",
       "      <td>2015-01-03 10:16:00</td>\n",
       "      <td>9</td>\n",
       "      <td>STJGIGUAWTUVX</td>\n",
       "      <td>Ads</td>\n",
       "      <td>IE</td>\n",
       "      <td>F</td>\n",
       "      <td>35</td>\n",
       "      <td>2.893227e+09</td>\n",
       "      <td>1</td>\n",
       "      <td>United States</td>\n",
       "      <td>1.0</td>\n",
       "    </tr>\n",
       "  </tbody>\n",
       "</table>\n",
       "</div>"
      ],
      "text/plain": [
       "                signup_time        purchase_time  purchase_value  \\\n",
       "128682  2015-01-11 19:11:15  2015-01-11 19:11:16              13   \n",
       "7372    2015-01-09 19:19:08  2015-01-09 19:19:09              62   \n",
       "92770   2015-01-03 05:31:38  2015-01-03 05:31:39              27   \n",
       "15041   2015-01-12 03:42:47  2015-01-12 03:42:48              69   \n",
       "48807   2015-01-03 10:15:59  2015-01-03 10:16:00               9   \n",
       "\n",
       "            device_id source  browser sex  age    ip_address  class  \\\n",
       "128682  XGLHXETOONGJR    SEO  FireFox   F   26  1.080791e+09      1   \n",
       "7372    IVCMLWTZIZKBS    Ads   Chrome   F   24  1.804099e+09      1   \n",
       "92770   VLNELJEFKHYNR    SEO  FireFox   M   29  2.456795e+09      1   \n",
       "15041   HCYSLYNRFLAXU    Ads   Chrome   F   34  1.599329e+09      1   \n",
       "48807   STJGIGUAWTUVX    Ads       IE   F   35  2.893227e+09      1   \n",
       "\n",
       "              country  purchase_signup_diff  \n",
       "128682  United States                   1.0  \n",
       "7372    United States                   1.0  \n",
       "92770   United States                   1.0  \n",
       "15041         Ireland                   1.0  \n",
       "48807   United States                   1.0  "
      ]
     },
     "execution_count": 19,
     "metadata": {},
     "output_type": "execute_result"
    }
   ],
   "source": [
    "df.sort_values('purchase_signup_diff').head(5)"
   ]
  },
  {
   "cell_type": "markdown",
   "metadata": {},
   "source": [
    "It is very obvious that 1s purchase behavior after signup highly correlate with fraudent activities, which make sense since normal human won't perform a such fast action. It is more like a behavior of a bot. \n",
    "\n",
    "let's plot fraudent-count vs time-interval distribution."
   ]
  },
  {
   "cell_type": "code",
   "execution_count": 20,
   "metadata": {},
   "outputs": [],
   "source": [
    "def check_dist(dimension, dataframe):\n",
    "    fig, ax = plt.subplots(figsize=(10,7))\n",
    "    normal_group = dataframe[dimension].loc[dataframe['class']==0]\n",
    "    fraud_group = dataframe[dimension].loc[dataframe['class']==1]\n",
    "    \n",
    "    sns.distplot(normal_group, hist=True ,ax = ax)\n",
    "    sns.distplot(fraud_group, hist=True, ax = ax)\n",
    "    plt.tight_layout()\n",
    "    plt.ylabel(\"Prob\")\n"
   ]
  },
  {
   "cell_type": "code",
   "execution_count": 21,
   "metadata": {},
   "outputs": [
    {
     "name": "stderr",
     "output_type": "stream",
     "text": [
      "/Users/zhili/anaconda3/lib/python3.7/site-packages/scipy/stats/stats.py:1713: FutureWarning: Using a non-tuple sequence for multidimensional indexing is deprecated; use `arr[tuple(seq)]` instead of `arr[seq]`. In the future this will be interpreted as an array index, `arr[np.array(seq)]`, which will result either in an error or a different result.\n",
      "  return np.add.reduce(sorted[indexer] * weights, axis=axis) / sumval\n"
     ]
    },
    {
     "data": {
      "text/plain": [
       "<matplotlib.axes._subplots.AxesSubplot at 0x1c1b436240>"
      ]
     },
     "execution_count": 21,
     "metadata": {},
     "output_type": "execute_result"
    },
    {
     "data": {
      "image/png": "[encoded data removed]",
      "text/plain": [
       "<Figure size 720x504 with 1 Axes>"
      ]
     },
     "metadata": {
      "needs_background": "light"
     },
     "output_type": "display_data"
    },
    {
     "data": {
      "image/png": "[encoded data removed]",
      "text/plain": [
       "<Figure size 720x504 with 1 Axes>"
      ]
     },
     "metadata": {
      "needs_background": "light"
     },
     "output_type": "display_data"
    }
   ],
   "source": [
    "check_dist('purchase_signup_diff', df)\n",
    "\n",
    "\n",
    "fig, ax = plt.subplots(figsize=(10,7))\n",
    "normal_group_rm1s = df['purchase_signup_diff'].loc[(df['class']==0) & (df['purchase_signup_diff']!= 1.0)]\n",
    "fraud_group_rm1s = df['purchase_signup_diff'].loc[df['class']==1 & (df['purchase_signup_diff']!= 1.0)]\n",
    "    \n",
    "sns.distplot(normal_group_rm1s, hist=True ,ax = ax)\n",
    "sns.distplot(fraud_group_rm1s, hist=True, ax = ax)"
   ]
  },
  {
   "cell_type": "markdown",
   "metadata": {},
   "source": [
    "Fraud activities largely occur at 1s. For fraudent activities that happen that purchase time is more than 1s after signup time, the distributions of fraud and normal do not differ too much.\n",
    "\n",
    "Next, let's flag the rows that either device or ip address are linked to multiple users."
   ]
  },
  {
   "cell_type": "code",
   "execution_count": 22,
   "metadata": {},
   "outputs": [
    {
     "data": {
      "text/html": [
       "<div>\n",
       "<style scoped>\n",
       "    .dataframe tbody tr th:only-of-type {\n",
       "        vertical-align: middle;\n",
       "    }\n",
       "\n",
       "    .dataframe tbody tr th {\n",
       "        vertical-align: top;\n",
       "    }\n",
       "\n",
       "    .dataframe thead th {\n",
       "        text-align: right;\n",
       "    }\n",
       "</style>\n",
       "<table border=\"1\" class=\"dataframe\">\n",
       "  <thead>\n",
       "    <tr style=\"text-align: right;\">\n",
       "      <th></th>\n",
       "      <th>device_id</th>\n",
       "      <th>device_count</th>\n",
       "    </tr>\n",
       "  </thead>\n",
       "  <tbody>\n",
       "    <tr>\n",
       "      <th>0</th>\n",
       "      <td>KIPFSCNUGOLDP</td>\n",
       "      <td>20</td>\n",
       "    </tr>\n",
       "    <tr>\n",
       "      <th>1</th>\n",
       "      <td>ITUMJCKWEYNDD</td>\n",
       "      <td>20</td>\n",
       "    </tr>\n",
       "    <tr>\n",
       "      <th>2</th>\n",
       "      <td>CQTUVBYIWWWBC</td>\n",
       "      <td>20</td>\n",
       "    </tr>\n",
       "    <tr>\n",
       "      <th>3</th>\n",
       "      <td>NGQCKIADMZORL</td>\n",
       "      <td>20</td>\n",
       "    </tr>\n",
       "    <tr>\n",
       "      <th>4</th>\n",
       "      <td>EQYVNEGOFLAWK</td>\n",
       "      <td>20</td>\n",
       "    </tr>\n",
       "  </tbody>\n",
       "</table>\n",
       "</div>"
      ],
      "text/plain": [
       "       device_id  device_count\n",
       "0  KIPFSCNUGOLDP            20\n",
       "1  ITUMJCKWEYNDD            20\n",
       "2  CQTUVBYIWWWBC            20\n",
       "3  NGQCKIADMZORL            20\n",
       "4  EQYVNEGOFLAWK            20"
      ]
     },
     "execution_count": 22,
     "metadata": {},
     "output_type": "execute_result"
    }
   ],
   "source": [
    "df_device_usercount = pd.DataFrame(df.groupby(['device_id']).size().sort_values(ascending = False))\n",
    "df_device_usercount = df_device_usercount.reset_index()\n",
    "df_device_usercount = df_device_usercount.rename(columns={\"device_id\": \"device_id\", 0: \"device_count\"})\n",
    "df_device_usercount.head()"
   ]
  },
  {
   "cell_type": "code",
   "execution_count": 23,
   "metadata": {},
   "outputs": [
    {
     "data": {
      "text/html": [
       "<div>\n",
       "<style scoped>\n",
       "    .dataframe tbody tr th:only-of-type {\n",
       "        vertical-align: middle;\n",
       "    }\n",
       "\n",
       "    .dataframe tbody tr th {\n",
       "        vertical-align: top;\n",
       "    }\n",
       "\n",
       "    .dataframe thead th {\n",
       "        text-align: right;\n",
       "    }\n",
       "</style>\n",
       "<table border=\"1\" class=\"dataframe\">\n",
       "  <thead>\n",
       "    <tr style=\"text-align: right;\">\n",
       "      <th></th>\n",
       "      <th>ip_address</th>\n",
       "      <th>ip_count</th>\n",
       "    </tr>\n",
       "  </thead>\n",
       "  <tbody>\n",
       "    <tr>\n",
       "      <th>0</th>\n",
       "      <td>1.502818e+09</td>\n",
       "      <td>20</td>\n",
       "    </tr>\n",
       "    <tr>\n",
       "      <th>1</th>\n",
       "      <td>5.760609e+08</td>\n",
       "      <td>20</td>\n",
       "    </tr>\n",
       "    <tr>\n",
       "      <th>2</th>\n",
       "      <td>3.874758e+09</td>\n",
       "      <td>20</td>\n",
       "    </tr>\n",
       "    <tr>\n",
       "      <th>3</th>\n",
       "      <td>2.050964e+09</td>\n",
       "      <td>20</td>\n",
       "    </tr>\n",
       "    <tr>\n",
       "      <th>4</th>\n",
       "      <td>3.484934e+08</td>\n",
       "      <td>19</td>\n",
       "    </tr>\n",
       "  </tbody>\n",
       "</table>\n",
       "</div>"
      ],
      "text/plain": [
       "     ip_address  ip_count\n",
       "0  1.502818e+09        20\n",
       "1  5.760609e+08        20\n",
       "2  3.874758e+09        20\n",
       "3  2.050964e+09        20\n",
       "4  3.484934e+08        19"
      ]
     },
     "execution_count": 23,
     "metadata": {},
     "output_type": "execute_result"
    }
   ],
   "source": [
    "df_ip_usercount = pd.DataFrame(df.groupby(['ip_address']).size().sort_values(ascending = False))\n",
    "df_ip_usercount = df_ip_usercount.reset_index()\n",
    "df_ip_usercount = df_ip_usercount.rename(columns={'ip_address': \"ip_address\", 0: \"ip_count\"})\n",
    "df_ip_usercount.head()"
   ]
  },
  {
   "cell_type": "code",
   "execution_count": 24,
   "metadata": {},
   "outputs": [
    {
     "data": {
      "text/html": [
       "<div>\n",
       "<style scoped>\n",
       "    .dataframe tbody tr th:only-of-type {\n",
       "        vertical-align: middle;\n",
       "    }\n",
       "\n",
       "    .dataframe tbody tr th {\n",
       "        vertical-align: top;\n",
       "    }\n",
       "\n",
       "    .dataframe thead th {\n",
       "        text-align: right;\n",
       "    }\n",
       "</style>\n",
       "<table border=\"1\" class=\"dataframe\">\n",
       "  <thead>\n",
       "    <tr style=\"text-align: right;\">\n",
       "      <th></th>\n",
       "      <th>signup_time</th>\n",
       "      <th>purchase_time</th>\n",
       "      <th>purchase_value</th>\n",
       "      <th>device_id</th>\n",
       "      <th>source</th>\n",
       "      <th>browser</th>\n",
       "      <th>sex</th>\n",
       "      <th>age</th>\n",
       "      <th>ip_address</th>\n",
       "      <th>class</th>\n",
       "      <th>country</th>\n",
       "      <th>purchase_signup_diff</th>\n",
       "      <th>device_count</th>\n",
       "      <th>ip_count</th>\n",
       "    </tr>\n",
       "  </thead>\n",
       "  <tbody>\n",
       "    <tr>\n",
       "      <th>0</th>\n",
       "      <td>2015-02-24 22:55:49</td>\n",
       "      <td>2015-04-18 02:47:11</td>\n",
       "      <td>34</td>\n",
       "      <td>QVPSPJUOCKZAR</td>\n",
       "      <td>SEO</td>\n",
       "      <td>Chrome</td>\n",
       "      <td>M</td>\n",
       "      <td>39</td>\n",
       "      <td>7.327584e+08</td>\n",
       "      <td>0</td>\n",
       "      <td>Japan</td>\n",
       "      <td>4506682.0</td>\n",
       "      <td>1</td>\n",
       "      <td>1</td>\n",
       "    </tr>\n",
       "    <tr>\n",
       "      <th>1</th>\n",
       "      <td>2015-06-07 20:39:50</td>\n",
       "      <td>2015-06-08 01:38:54</td>\n",
       "      <td>16</td>\n",
       "      <td>EOGFQPIZPYXFZ</td>\n",
       "      <td>Ads</td>\n",
       "      <td>Chrome</td>\n",
       "      <td>F</td>\n",
       "      <td>53</td>\n",
       "      <td>3.503114e+08</td>\n",
       "      <td>0</td>\n",
       "      <td>United States</td>\n",
       "      <td>17944.0</td>\n",
       "      <td>1</td>\n",
       "      <td>1</td>\n",
       "    </tr>\n",
       "    <tr>\n",
       "      <th>2</th>\n",
       "      <td>2015-01-01 18:52:44</td>\n",
       "      <td>2015-01-01 18:52:45</td>\n",
       "      <td>15</td>\n",
       "      <td>YSSKYOSJHPPLJ</td>\n",
       "      <td>SEO</td>\n",
       "      <td>Opera</td>\n",
       "      <td>M</td>\n",
       "      <td>53</td>\n",
       "      <td>2.621474e+09</td>\n",
       "      <td>1</td>\n",
       "      <td>United States</td>\n",
       "      <td>1.0</td>\n",
       "      <td>12</td>\n",
       "      <td>12</td>\n",
       "    </tr>\n",
       "    <tr>\n",
       "      <th>3</th>\n",
       "      <td>2015-01-01 18:52:41</td>\n",
       "      <td>2015-01-01 18:52:42</td>\n",
       "      <td>15</td>\n",
       "      <td>YSSKYOSJHPPLJ</td>\n",
       "      <td>SEO</td>\n",
       "      <td>Opera</td>\n",
       "      <td>M</td>\n",
       "      <td>53</td>\n",
       "      <td>2.621474e+09</td>\n",
       "      <td>1</td>\n",
       "      <td>United States</td>\n",
       "      <td>1.0</td>\n",
       "      <td>12</td>\n",
       "      <td>12</td>\n",
       "    </tr>\n",
       "    <tr>\n",
       "      <th>4</th>\n",
       "      <td>2015-01-01 18:52:40</td>\n",
       "      <td>2015-01-01 18:52:41</td>\n",
       "      <td>15</td>\n",
       "      <td>YSSKYOSJHPPLJ</td>\n",
       "      <td>SEO</td>\n",
       "      <td>Opera</td>\n",
       "      <td>M</td>\n",
       "      <td>53</td>\n",
       "      <td>2.621474e+09</td>\n",
       "      <td>1</td>\n",
       "      <td>United States</td>\n",
       "      <td>1.0</td>\n",
       "      <td>12</td>\n",
       "      <td>12</td>\n",
       "    </tr>\n",
       "  </tbody>\n",
       "</table>\n",
       "</div>"
      ],
      "text/plain": [
       "           signup_time        purchase_time  purchase_value      device_id  \\\n",
       "0  2015-02-24 22:55:49  2015-04-18 02:47:11              34  QVPSPJUOCKZAR   \n",
       "1  2015-06-07 20:39:50  2015-06-08 01:38:54              16  EOGFQPIZPYXFZ   \n",
       "2  2015-01-01 18:52:44  2015-01-01 18:52:45              15  YSSKYOSJHPPLJ   \n",
       "3  2015-01-01 18:52:41  2015-01-01 18:52:42              15  YSSKYOSJHPPLJ   \n",
       "4  2015-01-01 18:52:40  2015-01-01 18:52:41              15  YSSKYOSJHPPLJ   \n",
       "\n",
       "  source browser sex  age    ip_address  class        country  \\\n",
       "0    SEO  Chrome   M   39  7.327584e+08      0          Japan   \n",
       "1    Ads  Chrome   F   53  3.503114e+08      0  United States   \n",
       "2    SEO   Opera   M   53  2.621474e+09      1  United States   \n",
       "3    SEO   Opera   M   53  2.621474e+09      1  United States   \n",
       "4    SEO   Opera   M   53  2.621474e+09      1  United States   \n",
       "\n",
       "   purchase_signup_diff  device_count  ip_count  \n",
       "0             4506682.0             1         1  \n",
       "1               17944.0             1         1  \n",
       "2                   1.0            12        12  \n",
       "3                   1.0            12        12  \n",
       "4                   1.0            12        12  "
      ]
     },
     "execution_count": 24,
     "metadata": {},
     "output_type": "execute_result"
    }
   ],
   "source": [
    "df = pd.merge(df, df_device_usercount, how = 'inner', on = 'device_id')\n",
    "df = pd.merge(df, df_ip_usercount, how = 'inner', on = 'ip_address')\n",
    "df.head()"
   ]
  },
  {
   "cell_type": "markdown",
   "metadata": {},
   "source": [
    "let's take a look how fraud is related to the device_count and ip_count. "
   ]
  },
  {
   "cell_type": "code",
   "execution_count": 25,
   "metadata": {},
   "outputs": [
    {
     "data": {
      "image/png": "[encoded data removed]",
      "text/plain": [
       "<Figure size 720x504 with 1 Axes>"
      ]
     },
     "metadata": {
      "needs_background": "light"
     },
     "output_type": "display_data"
    },
    {
     "data": {
      "image/png": "[encoded data removed]",
      "text/plain": [
       "<Figure size 720x504 with 1 Axes>"
      ]
     },
     "metadata": {
      "needs_background": "light"
     },
     "output_type": "display_data"
    }
   ],
   "source": [
    "check_dist('device_count', df)\n",
    "check_dist('ip_count', df)"
   ]
  },
  {
   "cell_type": "markdown",
   "metadata": {},
   "source": [
    "The normal transactions usually corresponding to one user use one device in one ip_address. Multiple users using one ip address or one device may flag fraudent activities. This matches our previous intuition.\n",
    "\n",
    "Now let's see fraudent counts along the time. Also translate time into week, hour day."
   ]
  },
  {
   "cell_type": "code",
   "execution_count": 26,
   "metadata": {},
   "outputs": [],
   "source": [
    "df['signup_time'] = pd.to_datetime(df['signup_time'])\n",
    "df['purchase_time'] = pd.to_datetime(df['purchase_time'])\n",
    "#df.sort_values(by=['signup_time'], inplace=True, ascending=False)\n",
    "df_signup = df.set_index('signup_time')['class']\n",
    "#df_purchase = df.set_index('purchase_time')['class']"
   ]
  },
  {
   "cell_type": "code",
   "execution_count": 27,
   "metadata": {},
   "outputs": [
    {
     "data": {
      "text/plain": [
       "<matplotlib.axes._subplots.AxesSubplot at 0x1c1c5d41d0>"
      ]
     },
     "execution_count": 27,
     "metadata": {},
     "output_type": "execute_result"
    },
    {
     "data": {
      "image/png": "[encoded data removed]",
      "text/plain": [
       "<Figure size 1080x288 with 1 Axes>"
      ]
     },
     "metadata": {
      "needs_background": "light"
     },
     "output_type": "display_data"
    }
   ],
   "source": [
    "df_signup.head(1000).plot(y=[\"class\"], figsize=(15,4), style='.')\n",
    "#df_purchase.head(500).plot(y=[\"class\"], figsize=(15,4), style='.')"
   ]
  },
  {
   "cell_type": "code",
   "execution_count": null,
   "metadata": {},
   "outputs": [],
   "source": []
  },
  {
   "cell_type": "code",
   "execution_count": 28,
   "metadata": {},
   "outputs": [],
   "source": [
    "def datetime_transform(dataframe, column):\n",
    "    dataframe[column] = pd.to_datetime(dataframe[column])\n",
    "    dataframe[column+\"_year\"] = pd.to_datetime(dataframe[column]).dt.year\n",
    "    dataframe[column+\"_month\"] = pd.to_datetime(dataframe[column]).dt.month\n",
    "    dataframe[column+\"_day\"] = pd.to_datetime(dataframe[column]).dt.day\n",
    "    dataframe[column+\"_hour\"] = pd.to_datetime(dataframe[column]).dt.hour\n",
    "    dataframe[column+\"_dayofweek\"] = pd.to_datetime(dataframe[column]).dt.dayofweek\n",
    "    #return dataframe"
   ]
  },
  {
   "cell_type": "code",
   "execution_count": 29,
   "metadata": {},
   "outputs": [],
   "source": [
    "datetime_transform(df, \"signup_time\")\n",
    "datetime_transform(df, \"purchase_time\")"
   ]
  },
  {
   "cell_type": "code",
   "execution_count": 48,
   "metadata": {},
   "outputs": [
    {
     "data": {
      "text/plain": [
       "<matplotlib.axes._subplots.AxesSubplot at 0x1c20a8a978>"
      ]
     },
     "execution_count": 48,
     "metadata": {},
     "output_type": "execute_result"
    },
    {
     "data": {
      "image/png": "[encoded data removed]",
      "text/plain": [
       "<Figure size 1080x504 with 4 Axes>"
      ]
     },
     "metadata": {
      "needs_background": "light"
     },
     "output_type": "display_data"
    }
   ],
   "source": [
    "fig, axes = plt.subplots(figsize=(15,7), nrows=2, ncols=2)\n",
    "#df1.plot(ax=axes[0,0])\n",
    "df.groupby(['signup_time_month', 'class']).agg({'class': np.size}).unstack().plot.bar(ax=axes[0,0])\n",
    "#df2.plot(ax=axes[0,1])\n",
    "df.groupby(['purchase_time_month', 'class']).agg({'class': np.size}).unstack().plot.bar(ax=axes[0,1])\n",
    "df.groupby(['signup_time_day', 'class']).agg({'class': np.size}).unstack().plot.bar(ax=axes[1,0])\n",
    "df.groupby(['purchase_time_day', 'class']).agg({'class': np.size}).unstack().plot.bar(ax=axes[1,1])\n"
   ]
  },
  {
   "cell_type": "code",
   "execution_count": null,
   "metadata": {},
   "outputs": [],
   "source": []
  },
  {
   "cell_type": "markdown",
   "metadata": {},
   "source": [
    "January is the month with the most fraudent activities. fraudent activities seems to happend near the early days of the month."
   ]
  },
  {
   "cell_type": "markdown",
   "metadata": {},
   "source": [
    "## Task 2: build a model to predict whether an activity is fraudent. Explain FP, FN trade-off."
   ]
  },
  {
   "cell_type": "code",
   "execution_count": 28,
   "metadata": {},
   "outputs": [],
   "source": [
    "# load libraries\n",
    "from sklearn.linear_model import LogisticRegression\n",
    "from sklearn import metrics \n",
    "from sklearn.model_selection import  KFold, train_test_split, cross_val_score \n",
    "from sklearn.model_selection import train_test_split, cross_validate\n",
    "from sklearn.metrics import accuracy_score, recall_score, \\\n",
    "precision_score, roc_auc_score, classification_report, f1_score"
   ]
  },
  {
   "cell_type": "code",
   "execution_count": 29,
   "metadata": {},
   "outputs": [
    {
     "data": {
      "text/html": [
       "<div>\n",
       "<style scoped>\n",
       "    .dataframe tbody tr th:only-of-type {\n",
       "        vertical-align: middle;\n",
       "    }\n",
       "\n",
       "    .dataframe tbody tr th {\n",
       "        vertical-align: top;\n",
       "    }\n",
       "\n",
       "    .dataframe thead th {\n",
       "        text-align: right;\n",
       "    }\n",
       "</style>\n",
       "<table border=\"1\" class=\"dataframe\">\n",
       "  <thead>\n",
       "    <tr style=\"text-align: right;\">\n",
       "      <th></th>\n",
       "      <th>signup_time</th>\n",
       "      <th>purchase_time</th>\n",
       "      <th>purchase_value</th>\n",
       "      <th>device_id</th>\n",
       "      <th>source</th>\n",
       "      <th>browser</th>\n",
       "      <th>sex</th>\n",
       "      <th>age</th>\n",
       "      <th>ip_address</th>\n",
       "      <th>class</th>\n",
       "      <th>country</th>\n",
       "      <th>purchase_signup_diff</th>\n",
       "      <th>device_count</th>\n",
       "      <th>ip_count</th>\n",
       "    </tr>\n",
       "  </thead>\n",
       "  <tbody>\n",
       "    <tr>\n",
       "      <th>0</th>\n",
       "      <td>2015-02-24 22:55:49</td>\n",
       "      <td>2015-04-18 02:47:11</td>\n",
       "      <td>34</td>\n",
       "      <td>QVPSPJUOCKZAR</td>\n",
       "      <td>SEO</td>\n",
       "      <td>Chrome</td>\n",
       "      <td>M</td>\n",
       "      <td>39</td>\n",
       "      <td>7.327584e+08</td>\n",
       "      <td>0</td>\n",
       "      <td>Japan</td>\n",
       "      <td>4506682.0</td>\n",
       "      <td>1</td>\n",
       "      <td>1</td>\n",
       "    </tr>\n",
       "    <tr>\n",
       "      <th>1</th>\n",
       "      <td>2015-06-07 20:39:50</td>\n",
       "      <td>2015-06-08 01:38:54</td>\n",
       "      <td>16</td>\n",
       "      <td>EOGFQPIZPYXFZ</td>\n",
       "      <td>Ads</td>\n",
       "      <td>Chrome</td>\n",
       "      <td>F</td>\n",
       "      <td>53</td>\n",
       "      <td>3.503114e+08</td>\n",
       "      <td>0</td>\n",
       "      <td>United States</td>\n",
       "      <td>17944.0</td>\n",
       "      <td>1</td>\n",
       "      <td>1</td>\n",
       "    </tr>\n",
       "  </tbody>\n",
       "</table>\n",
       "</div>"
      ],
      "text/plain": [
       "          signup_time       purchase_time  purchase_value      device_id  \\\n",
       "0 2015-02-24 22:55:49 2015-04-18 02:47:11              34  QVPSPJUOCKZAR   \n",
       "1 2015-06-07 20:39:50 2015-06-08 01:38:54              16  EOGFQPIZPYXFZ   \n",
       "\n",
       "  source browser sex  age    ip_address  class        country  \\\n",
       "0    SEO  Chrome   M   39  7.327584e+08      0          Japan   \n",
       "1    Ads  Chrome   F   53  3.503114e+08      0  United States   \n",
       "\n",
       "   purchase_signup_diff  device_count  ip_count  \n",
       "0             4506682.0             1         1  \n",
       "1               17944.0             1         1  "
      ]
     },
     "execution_count": 29,
     "metadata": {},
     "output_type": "execute_result"
    }
   ],
   "source": [
    "df.head(2)"
   ]
  },
  {
   "cell_type": "code",
   "execution_count": 30,
   "metadata": {},
   "outputs": [],
   "source": [
    "y = df['class']\n",
    "X = df.drop(columns = ['class','device_id', 'signup_time', 'purchase_time', 'ip_address'])\n",
    "X=pd.get_dummies(X, drop_first=True)\n",
    "\n",
    "X_tt, X_holdout, y_tt, y_holdout = train_test_split(X, y, test_size=0.33)"
   ]
  },
  {
   "cell_type": "code",
   "execution_count": 31,
   "metadata": {},
   "outputs": [
    {
     "data": {
      "text/html": [
       "<div>\n",
       "<style scoped>\n",
       "    .dataframe tbody tr th:only-of-type {\n",
       "        vertical-align: middle;\n",
       "    }\n",
       "\n",
       "    .dataframe tbody tr th {\n",
       "        vertical-align: top;\n",
       "    }\n",
       "\n",
       "    .dataframe thead th {\n",
       "        text-align: right;\n",
       "    }\n",
       "</style>\n",
       "<table border=\"1\" class=\"dataframe\">\n",
       "  <thead>\n",
       "    <tr style=\"text-align: right;\">\n",
       "      <th></th>\n",
       "      <th>purchase_value</th>\n",
       "      <th>age</th>\n",
       "      <th>purchase_signup_diff</th>\n",
       "      <th>device_count</th>\n",
       "      <th>ip_count</th>\n",
       "      <th>source_Direct</th>\n",
       "      <th>source_SEO</th>\n",
       "      <th>browser_FireFox</th>\n",
       "      <th>browser_IE</th>\n",
       "      <th>browser_Opera</th>\n",
       "      <th>...</th>\n",
       "      <th>country_United States</th>\n",
       "      <th>country_Uruguay</th>\n",
       "      <th>country_Uzbekistan</th>\n",
       "      <th>country_Vanuatu</th>\n",
       "      <th>country_Venezuela</th>\n",
       "      <th>country_Viet Nam</th>\n",
       "      <th>country_Virgin Islands (U.S.)</th>\n",
       "      <th>country_Yemen</th>\n",
       "      <th>country_Zambia</th>\n",
       "      <th>country_Zimbabwe</th>\n",
       "    </tr>\n",
       "  </thead>\n",
       "  <tbody>\n",
       "    <tr>\n",
       "      <th>0</th>\n",
       "      <td>34</td>\n",
       "      <td>39</td>\n",
       "      <td>4506682.0</td>\n",
       "      <td>1</td>\n",
       "      <td>1</td>\n",
       "      <td>0</td>\n",
       "      <td>1</td>\n",
       "      <td>0</td>\n",
       "      <td>0</td>\n",
       "      <td>0</td>\n",
       "      <td>...</td>\n",
       "      <td>0</td>\n",
       "      <td>0</td>\n",
       "      <td>0</td>\n",
       "      <td>0</td>\n",
       "      <td>0</td>\n",
       "      <td>0</td>\n",
       "      <td>0</td>\n",
       "      <td>0</td>\n",
       "      <td>0</td>\n",
       "      <td>0</td>\n",
       "    </tr>\n",
       "    <tr>\n",
       "      <th>1</th>\n",
       "      <td>16</td>\n",
       "      <td>53</td>\n",
       "      <td>17944.0</td>\n",
       "      <td>1</td>\n",
       "      <td>1</td>\n",
       "      <td>0</td>\n",
       "      <td>0</td>\n",
       "      <td>0</td>\n",
       "      <td>0</td>\n",
       "      <td>0</td>\n",
       "      <td>...</td>\n",
       "      <td>1</td>\n",
       "      <td>0</td>\n",
       "      <td>0</td>\n",
       "      <td>0</td>\n",
       "      <td>0</td>\n",
       "      <td>0</td>\n",
       "      <td>0</td>\n",
       "      <td>0</td>\n",
       "      <td>0</td>\n",
       "      <td>0</td>\n",
       "    </tr>\n",
       "  </tbody>\n",
       "</table>\n",
       "<p>2 rows × 193 columns</p>\n",
       "</div>"
      ],
      "text/plain": [
       "   purchase_value  age  purchase_signup_diff  device_count  ip_count  \\\n",
       "0              34   39             4506682.0             1         1   \n",
       "1              16   53               17944.0             1         1   \n",
       "\n",
       "   source_Direct  source_SEO  browser_FireFox  browser_IE  browser_Opera  \\\n",
       "0              0           1                0           0              0   \n",
       "1              0           0                0           0              0   \n",
       "\n",
       "         ...         country_United States  country_Uruguay  \\\n",
       "0        ...                             0                0   \n",
       "1        ...                             1                0   \n",
       "\n",
       "   country_Uzbekistan  country_Vanuatu  country_Venezuela  country_Viet Nam  \\\n",
       "0                   0                0                  0                 0   \n",
       "1                   0                0                  0                 0   \n",
       "\n",
       "   country_Virgin Islands (U.S.)  country_Yemen  country_Zambia  \\\n",
       "0                              0              0               0   \n",
       "1                              0              0               0   \n",
       "\n",
       "   country_Zimbabwe  \n",
       "0                 0  \n",
       "1                 0  \n",
       "\n",
       "[2 rows x 193 columns]"
      ]
     },
     "execution_count": 31,
     "metadata": {},
     "output_type": "execute_result"
    }
   ],
   "source": [
    "X.head(2)"
   ]
  },
  {
   "cell_type": "code",
   "execution_count": 32,
   "metadata": {},
   "outputs": [
    {
     "data": {
      "image/png": "[encoded data removed]",
      "text/plain": [
       "<Figure size 432x288 with 1 Axes>"
      ]
     },
     "metadata": {
      "needs_background": "light"
     },
     "output_type": "display_data"
    }
   ],
   "source": [
    "def plot_2d_space(X, y, label='Classes'):   \n",
    "    colors = ['#1F77B4', '#FF7F0E']\n",
    "    markers = ['o', 's']\n",
    "    for l, c, m in zip(np.unique(y), colors, markers):\n",
    "        plt.scatter(\n",
    "            X[y==l, 0],\n",
    "            X[y==l, 1],\n",
    "            c=c, label=l, marker=m\n",
    "        )\n",
    "    plt.title(label)\n",
    "    plt.legend(loc='upper right')\n",
    "    plt.show()\n",
    "\n",
    "from sklearn.decomposition import PCA\n",
    "\n",
    "pca = PCA(n_components=2)\n",
    "plot_X = pca.fit_transform(X)\n",
    "\n",
    "plot_2d_space(plot_X, y, 'Imbalanced dataset (2 PCA components)')"
   ]
  },
  {
   "cell_type": "markdown",
   "metadata": {},
   "source": [
    "It seems the data is not linearly separable. It is not guaranteed logit will show good result. but let's try it first."
   ]
  },
  {
   "cell_type": "code",
   "execution_count": 33,
   "metadata": {},
   "outputs": [
    {
     "name": "stdout",
     "output_type": "stream",
     "text": [
      "Cross-validation scores: {'fit_time': array([1.22803688, 0.45364809, 0.61037493, 0.83429193, 1.17402267]), 'score_time': array([0.03688407, 0.03873324, 0.03823996, 0.03713989, 0.03798318]), 'test_score': array([0.53031915, 0.5356383 , 0.51968085, 0.51170213, 0.52553191])}\n"
     ]
    }
   ],
   "source": [
    "LR = LogisticRegression(penalty='l1',solver='liblinear')\n",
    "scores = cross_validate(LR,X_tt,y_tt,cv=5,scoring='recall')\n",
    "print(\"Cross-validation scores: {}\".format(scores))"
   ]
  },
  {
   "cell_type": "code",
   "execution_count": 34,
   "metadata": {},
   "outputs": [
    {
     "data": {
      "text/plain": [
       "LogisticRegression(C=1.0, class_weight=None, dual=False, fit_intercept=True,\n",
       "                   intercept_scaling=1, l1_ratio=None, max_iter=100,\n",
       "                   multi_class='warn', n_jobs=None, penalty='l1',\n",
       "                   random_state=None, solver='liblinear', tol=0.0001, verbose=0,\n",
       "                   warm_start=False)"
      ]
     },
     "execution_count": 34,
     "metadata": {},
     "output_type": "execute_result"
    }
   ],
   "source": [
    "LR.fit(X_tt,y_tt)"
   ]
  },
  {
   "cell_type": "code",
   "execution_count": 35,
   "metadata": {},
   "outputs": [
    {
     "data": {
      "image/png": "[encoded data removed]",
      "text/plain": [
       "<Figure size 576x432 with 1 Axes>"
      ]
     },
     "metadata": {
      "needs_background": "light"
     },
     "output_type": "display_data"
    }
   ],
   "source": [
    "from sklearn.metrics import roc_curve\n",
    "from sklearn.metrics import roc_auc_score\n",
    "\n",
    "plt.figure(figsize=(8, 6))\n",
    "fpr, tpr, thresholds = roc_curve(y_holdout, LR.predict(X_holdout))\n",
    "auc = roc_auc_score(y_holdout, LR.predict(X_holdout))\n",
    "plt.plot(fpr, tpr, label='LR' +\" AUC:{:.3f}\".format(auc))\n",
    "plt.xlabel(\"FPR\")\n",
    "plt.ylabel(\"TPR (recall)\")\n",
    "plt.legend(loc=4)\n",
    "close_zero = np.argmin(np.abs(thresholds))"
   ]
  },
  {
   "cell_type": "code",
   "execution_count": 36,
   "metadata": {},
   "outputs": [
    {
     "name": "stdout",
     "output_type": "stream",
     "text": [
      "              precision    recall  f1-score   support\n",
      "\n",
      "           0       0.95      0.99      0.97     45116\n",
      "           1       0.91      0.53      0.67      4751\n",
      "\n",
      "    accuracy                           0.95     49867\n",
      "   macro avg       0.93      0.76      0.82     49867\n",
      "weighted avg       0.95      0.95      0.94     49867\n",
      "\n"
     ]
    }
   ],
   "source": [
    "print(classification_report(y_holdout,LR.predict(X_holdout)))"
   ]
  },
  {
   "cell_type": "markdown",
   "metadata": {},
   "source": [
    "Logistic Regression gives out recall that is slight better than random guess. I would not say it is a good model, especially currently the data is very imbalanced that I didn't do any oversampling yet."
   ]
  },
  {
   "cell_type": "code",
   "execution_count": 37,
   "metadata": {},
   "outputs": [
    {
     "data": {
      "text/plain": [
       "GradientBoostingClassifier(criterion='friedman_mse', init=None,\n",
       "                           learning_rate=0.1, loss='deviance', max_depth=3,\n",
       "                           max_features=None, max_leaf_nodes=None,\n",
       "                           min_impurity_decrease=0.0, min_impurity_split=None,\n",
       "                           min_samples_leaf=1, min_samples_split=2,\n",
       "                           min_weight_fraction_leaf=0.0, n_estimators=100,\n",
       "                           n_iter_no_change=None, presort='auto',\n",
       "                           random_state=None, subsample=1.0, tol=0.0001,\n",
       "                           validation_fraction=0.1, verbose=0,\n",
       "                           warm_start=False)"
      ]
     },
     "execution_count": 37,
     "metadata": {},
     "output_type": "execute_result"
    }
   ],
   "source": [
    "from sklearn.ensemble import GradientBoostingClassifier \n",
    "GBoost = GradientBoostingClassifier()\n",
    "scores = cross_validate(GBoost,X_tt,y_tt,cv=5,scoring='recall')\n",
    "GBoost.fit(X_tt,y_tt)"
   ]
  },
  {
   "cell_type": "code",
   "execution_count": 38,
   "metadata": {},
   "outputs": [
    {
     "name": "stdout",
     "output_type": "stream",
     "text": [
      "              precision    recall  f1-score   support\n",
      "\n",
      "           0       0.95      1.00      0.98     45116\n",
      "           1       1.00      0.54      0.70      4751\n",
      "\n",
      "    accuracy                           0.96     49867\n",
      "   macro avg       0.98      0.77      0.84     49867\n",
      "weighted avg       0.96      0.96      0.95     49867\n",
      "\n"
     ]
    }
   ],
   "source": [
    "print(classification_report(y_holdout,GBoost.predict(X_holdout)))"
   ]
  },
  {
   "cell_type": "markdown",
   "metadata": {},
   "source": [
    "Gradient boosting gives much higher recall on largely imbalanced dataset without resampling technique. "
   ]
  },
  {
   "cell_type": "markdown",
   "metadata": {},
   "source": [
    "## Oversample the minority"
   ]
  },
  {
   "cell_type": "code",
   "execution_count": 39,
   "metadata": {},
   "outputs": [
    {
     "name": "stderr",
     "output_type": "stream",
     "text": [
      "/Users/zhili/anaconda3/lib/python3.7/site-packages/sklearn/externals/six.py:31: DeprecationWarning: The module is deprecated in version 0.21 and will be removed in version 0.23 since we've dropped support for Python 2.7. Please rely on the official version of six (https://pypi.org/project/six/).\n",
      "  \"(https://pypi.org/project/six/).\", DeprecationWarning)\n"
     ]
    },
    {
     "name": "stdout",
     "output_type": "stream",
     "text": [
      "122810 new random picked points\n"
     ]
    },
    {
     "data": {
      "image/png": "[encoded data removed]",
      "text/plain": [
       "<Figure size 432x288 with 1 Axes>"
      ]
     },
     "metadata": {
      "needs_background": "light"
     },
     "output_type": "display_data"
    }
   ],
   "source": [
    "from imblearn.over_sampling import RandomOverSampler\n",
    "\n",
    "ros = RandomOverSampler()\n",
    "X_ros, y_ros = ros.fit_sample(X, y)\n",
    "\n",
    "print(X_ros.shape[0] - X.shape[0], 'new random picked points')\n",
    "\n",
    "plot_2d_space(pca.fit_transform(X_ros), y_ros, 'Random over-sampling')"
   ]
  },
  {
   "cell_type": "code",
   "execution_count": 40,
   "metadata": {},
   "outputs": [
    {
     "name": "stdout",
     "output_type": "stream",
     "text": [
      "              precision    recall  f1-score   support\n",
      "\n",
      "           0       0.97      0.93      0.95     45116\n",
      "           1       0.53      0.73      0.61      4751\n",
      "\n",
      "    accuracy                           0.91     49867\n",
      "   macro avg       0.75      0.83      0.78     49867\n",
      "weighted avg       0.93      0.91      0.92     49867\n",
      "\n"
     ]
    }
   ],
   "source": [
    "X_train, X_test, y_train, y_test = train_test_split(X_ros, y_ros, test_size=0.33)\n",
    "#LR = LogisticRegression(penalty='l1',solver='liblinear')\n",
    "#scores = cross_validate(LR,X_ros,y_ros,cv=5,scoring='recall')\n",
    "LR.fit(X_train,y_train)\n",
    "print(classification_report(y_holdout,LR.predict(X_holdout)))\n"
   ]
  },
  {
   "cell_type": "markdown",
   "metadata": {},
   "source": [
    "Recall performance largely improved after oversampling and building the model."
   ]
  },
  {
   "cell_type": "code",
   "execution_count": 41,
   "metadata": {},
   "outputs": [],
   "source": [
    "# ROC curve\n",
    "# plt.figure(figsize=(8, 6))\n",
    "# fpr, tpr, thresholds = roc_curve(y_holdout, LR.predict(X_holdout))\n",
    "# auc = roc_auc_score(y_holdout, LR.predict(X_holdout))\n",
    "# plt.plot(fpr, tpr, label='LR' +\" AUC:{:.3f}\".format(auc))\n",
    "# plt.xlabel(\"FPR\")\n",
    "# plt.ylabel(\"TPR (recall)\")\n",
    "# plt.legend(loc=4)\n",
    "# close_zero = np.argmin(np.abs(thresholds))"
   ]
  },
  {
   "cell_type": "markdown",
   "metadata": {},
   "source": [
    "## Random Forest and gradient boosting after oversampling the data"
   ]
  },
  {
   "cell_type": "code",
   "execution_count": 42,
   "metadata": {},
   "outputs": [
    {
     "name": "stderr",
     "output_type": "stream",
     "text": [
      "/Users/zhili/anaconda3/lib/python3.7/site-packages/sklearn/ensemble/forest.py:245: FutureWarning: The default value of n_estimators will change from 10 in version 0.20 to 100 in 0.22.\n",
      "  \"10 in version 0.20 to 100 in 0.22.\", FutureWarning)\n",
      "/Users/zhili/anaconda3/lib/python3.7/site-packages/sklearn/ensemble/forest.py:245: FutureWarning: The default value of n_estimators will change from 10 in version 0.20 to 100 in 0.22.\n",
      "  \"10 in version 0.20 to 100 in 0.22.\", FutureWarning)\n",
      "/Users/zhili/anaconda3/lib/python3.7/site-packages/sklearn/ensemble/forest.py:245: FutureWarning: The default value of n_estimators will change from 10 in version 0.20 to 100 in 0.22.\n",
      "  \"10 in version 0.20 to 100 in 0.22.\", FutureWarning)\n",
      "/Users/zhili/anaconda3/lib/python3.7/site-packages/sklearn/ensemble/forest.py:245: FutureWarning: The default value of n_estimators will change from 10 in version 0.20 to 100 in 0.22.\n",
      "  \"10 in version 0.20 to 100 in 0.22.\", FutureWarning)\n",
      "/Users/zhili/anaconda3/lib/python3.7/site-packages/sklearn/ensemble/forest.py:245: FutureWarning: The default value of n_estimators will change from 10 in version 0.20 to 100 in 0.22.\n",
      "  \"10 in version 0.20 to 100 in 0.22.\", FutureWarning)\n",
      "/Users/zhili/anaconda3/lib/python3.7/site-packages/sklearn/ensemble/forest.py:245: FutureWarning: The default value of n_estimators will change from 10 in version 0.20 to 100 in 0.22.\n",
      "  \"10 in version 0.20 to 100 in 0.22.\", FutureWarning)\n"
     ]
    },
    {
     "name": "stdout",
     "output_type": "stream",
     "text": [
      "              precision    recall  f1-score   support\n",
      "\n",
      "           0       1.00      0.99      1.00     45116\n",
      "           1       0.94      1.00      0.97      4751\n",
      "\n",
      "    accuracy                           0.99     49867\n",
      "   macro avg       0.97      1.00      0.98     49867\n",
      "weighted avg       0.99      0.99      0.99     49867\n",
      "\n"
     ]
    }
   ],
   "source": [
    "from sklearn.ensemble import RandomForestClassifier as RF\n",
    "RF = RF()\n",
    "scores = cross_validate(RF,X_train,y_train,cv=5,scoring='recall')\n",
    "RF.fit(X_train,y_train)\n",
    "print(classification_report(y_holdout,RF.predict(X_holdout)))"
   ]
  },
  {
   "cell_type": "markdown",
   "metadata": {},
   "source": [
    "Random Forest seems to performing really good on testing set by training on oversampled balanced dataset."
   ]
  },
  {
   "cell_type": "code",
   "execution_count": 43,
   "metadata": {},
   "outputs": [],
   "source": [
    "# scores = cross_validate(GBoost,X_train,y_train,cv=5,scoring='recall')\n",
    "# GBoost.fit(X_train,y_train)\n",
    "# print(classification_report(y_holdout,GBoost.predict(X_holdout)))"
   ]
  },
  {
   "cell_type": "markdown",
   "metadata": {},
   "source": [
    "Interpretation of FP and FN tradeoffs.\n",
    "- ROC curve: TPR(recall or TP/P = TP/(TP+FN)) vs FPR (FP/N = FP/(FP + TN))\n",
    "- For a given ROC curve, if we care about minimizing false positive, meaning we really care about normal users, we would need to adjust threshold that gives as **small FPR but high TPR** as possible. \n",
    "Precision = TP/(TP + FP), minimizing FP and care normal users meaning high precision.\n",
    "\n",
    "- For a given ROC curve, if we care about minimizing false negative, meaning we really want to capture fraud as many as possible, then we will have to **decrease the threshold** below 0.5.\n",
    "Recall = TP/(TP+FN) is also TPR, we want maximize recall or TPR.\n",
    "\n",
    "In many practical ML applications, there is no reason to use default 0.5 cut-off value."
   ]
  },
  {
   "cell_type": "markdown",
   "metadata": {},
   "source": [
    "## Characters of fraudent activities"
   ]
  },
  {
   "cell_type": "code",
   "execution_count": 44,
   "metadata": {},
   "outputs": [],
   "source": [
    "importances = RF.feature_importances_"
   ]
  },
  {
   "cell_type": "code",
   "execution_count": 45,
   "metadata": {},
   "outputs": [
    {
     "name": "stdout",
     "output_type": "stream",
     "text": [
      "Feature ranking:\n",
      "1. feature purchase_signup_diff (0.278408)\n",
      "2. feature device_count (0.263017)\n",
      "3. feature purchase_value (0.134156)\n",
      "4. feature age (0.112941)\n",
      "5. feature ip_count (0.092145)\n",
      "6. feature sex_M (0.011357)\n",
      "7. feature source_SEO (0.009163)\n",
      "8. feature browser_IE (0.008859)\n",
      "9. feature browser_FireFox (0.008176)\n",
      "10. feature source_Direct (0.006893)\n",
      "11. feature browser_Safari (0.006208)\n",
      "12. feature country_United States (0.004035)\n",
      "13. feature country_China (0.003708)\n",
      "14. feature country_Australia (0.003158)\n",
      "15. feature country_Japan (0.003015)\n",
      "16. feature browser_Opera (0.002954)\n",
      "17. feature country_Korea Republic of (0.002339)\n",
      "18. feature country_United Kingdom (0.002112)\n",
      "19. feature country_France (0.002022)\n",
      "20. feature country_Brazil (0.001968)\n",
      "21. feature country_Canada (0.001937)\n",
      "22. feature country_Italy (0.001766)\n",
      "23. feature country_Germany (0.001710)\n",
      "24. feature country_Netherlands (0.001696)\n",
      "25. feature country_Russian Federation (0.001561)\n",
      "26. feature country_Taiwan; Republic of China (ROC) (0.001289)\n",
      "27. feature country_Mexico (0.001194)\n",
      "28. feature country_India (0.001057)\n",
      "29. feature country_Sweden (0.001046)\n",
      "30. feature country_Switzerland (0.000974)\n",
      "31. feature country_South Africa (0.000934)\n",
      "32. feature country_Argentina (0.000900)\n",
      "33. feature country_Poland (0.000882)\n",
      "34. feature country_Colombia (0.000823)\n",
      "35. feature country_Spain (0.000779)\n",
      "36. feature country_New Zealand (0.000773)\n",
      "37. feature country_Not Found (0.000773)\n",
      "38. feature country_Norway (0.000768)\n",
      "39. feature country_Belgium (0.000766)\n",
      "40. feature country_Romania (0.000730)\n",
      "41. feature country_Viet Nam (0.000709)\n",
      "42. feature country_Iran (ISLAMIC Republic Of) (0.000707)\n",
      "43. feature country_Denmark (0.000704)\n",
      "44. feature country_Hong Kong (0.000676)\n",
      "45. feature country_Austria (0.000625)\n",
      "46. feature country_Ukraine (0.000612)\n",
      "47. feature country_Indonesia (0.000589)\n",
      "48. feature country_Turkey (0.000556)\n",
      "49. feature country_Finland (0.000540)\n",
      "50. feature country_Egypt (0.000533)\n",
      "51. feature country_Chile (0.000532)\n",
      "52. feature country_Malaysia (0.000512)\n",
      "53. feature country_Venezuela (0.000496)\n",
      "54. feature country_Saudi Arabia (0.000482)\n",
      "55. feature country_Hungary (0.000462)\n",
      "56. feature country_Thailand (0.000425)\n",
      "57. feature country_Ireland (0.000424)\n",
      "58. feature country_European Union (0.000418)\n",
      "59. feature country_Ecuador (0.000418)\n",
      "60. feature country_Israel (0.000411)\n",
      "61. feature country_Greece (0.000405)\n",
      "62. feature country_Czech Republic (0.000390)\n",
      "63. feature country_Algeria (0.000386)\n",
      "64. feature country_Singapore (0.000368)\n",
      "65. feature country_Croatia (LOCAL Name: Hrvatska) (0.000360)\n",
      "66. feature country_Philippines (0.000358)\n",
      "67. feature country_Pakistan (0.000343)\n",
      "68. feature country_Peru (0.000334)\n",
      "69. feature country_Kazakhstan (0.000319)\n",
      "70. feature country_Lithuania (0.000282)\n",
      "71. feature country_Portugal (0.000277)\n",
      "72. feature country_Morocco (0.000263)\n",
      "73. feature country_Latvia (0.000257)\n",
      "74. feature country_Slovakia (SLOVAK Republic) (0.000250)\n",
      "75. feature country_Tunisia (0.000244)\n",
      "76. feature country_Bulgaria (0.000235)\n",
      "77. feature country_Bolivia (0.000221)\n",
      "78. feature country_Uruguay (0.000202)\n",
      "79. feature country_Malta (0.000197)\n",
      "80. feature country_Lebanon (0.000192)\n",
      "81. feature country_Kuwait (0.000187)\n",
      "82. feature country_United Arab Emirates (0.000185)\n",
      "83. feature country_Seychelles (0.000183)\n",
      "84. feature country_Nigeria (0.000183)\n",
      "85. feature country_Costa Rica (0.000177)\n",
      "86. feature country_Belarus (0.000157)\n",
      "87. feature country_Bangladesh (0.000149)\n",
      "88. feature country_Slovenia (0.000147)\n",
      "89. feature country_Sudan (0.000142)\n",
      "90. feature country_Serbia (0.000134)\n",
      "91. feature country_Luxembourg (0.000133)\n",
      "92. feature country_Trinidad and Tobago (0.000118)\n",
      "93. feature country_Panama (0.000111)\n",
      "94. feature country_Iceland (0.000104)\n",
      "95. feature country_Kenya (0.000098)\n",
      "96. feature country_Sri Lanka (0.000097)\n",
      "97. feature country_Bosnia and Herzegowina (0.000096)\n",
      "98. feature country_Moldova Republic of (0.000094)\n",
      "99. feature country_Cyprus (0.000093)\n",
      "100. feature country_Armenia (0.000090)\n",
      "101. feature country_Angola (0.000087)\n",
      "102. feature country_Nicaragua (0.000087)\n",
      "103. feature country_Dominican Republic (0.000074)\n",
      "104. feature country_Malawi (0.000074)\n",
      "105. feature country_Paraguay (0.000067)\n",
      "106. feature country_Macedonia (0.000066)\n",
      "107. feature country_Montenegro (0.000066)\n",
      "108. feature country_Libyan Arab Jamahiriya (0.000063)\n",
      "109. feature country_Cote D'ivoire (0.000063)\n",
      "110. feature country_Uzbekistan (0.000061)\n",
      "111. feature country_El Salvador (0.000059)\n",
      "112. feature country_Virgin Islands (U.S.) (0.000050)\n",
      "113. feature country_Qatar (0.000049)\n",
      "114. feature country_Namibia (0.000047)\n",
      "115. feature country_Estonia (0.000040)\n",
      "116. feature country_Azerbaijan (0.000039)\n",
      "117. feature country_Georgia (0.000036)\n",
      "118. feature country_Mauritius (0.000036)\n",
      "119. feature country_Syrian Arab Republic (0.000034)\n",
      "120. feature country_Puerto Rico (0.000033)\n",
      "121. feature country_Mongolia (0.000031)\n",
      "122. feature country_Oman (0.000030)\n",
      "123. feature country_Jamaica (0.000030)\n",
      "124. feature country_Turkmenistan (0.000029)\n",
      "125. feature country_Guatemala (0.000024)\n",
      "126. feature country_Monaco (0.000022)\n",
      "127. feature country_Honduras (0.000022)\n",
      "128. feature country_Cambodia (0.000021)\n",
      "129. feature country_Senegal (0.000020)\n",
      "130. feature country_Bahrain (0.000020)\n",
      "131. feature country_Palestinian Territory Occupied (0.000019)\n",
      "132. feature country_Congo (0.000015)\n",
      "133. feature country_Mozambique (0.000012)\n",
      "134. feature country_Brunei Darussalam (0.000012)\n",
      "135. feature country_Bonaire; Sint Eustatius; Saba (0.000012)\n",
      "136. feature country_Maldives (0.000012)\n",
      "137. feature country_Belize (0.000011)\n",
      "138. feature country_Nepal (0.000010)\n",
      "139. feature country_Barbados (0.000010)\n",
      "140. feature country_Zimbabwe (0.000009)\n",
      "141. feature country_Bahamas (0.000008)\n",
      "142. feature country_Kyrgyzstan (0.000007)\n",
      "143. feature country_Jordan (0.000007)\n",
      "144. feature country_Botswana (0.000007)\n",
      "145. feature country_Rwanda (0.000006)\n",
      "146. feature country_Cuba (0.000006)\n",
      "147. feature country_Iraq (0.000005)\n",
      "148. feature country_Albania (0.000004)\n",
      "149. feature country_Lao People's Democratic Republic (0.000004)\n",
      "150. feature country_Ghana (0.000004)\n",
      "151. feature country_Uganda (0.000004)\n",
      "152. feature country_Gabon (0.000004)\n",
      "153. feature country_Zambia (0.000004)\n",
      "154. feature country_Guam (0.000004)\n",
      "155. feature country_Benin (0.000003)\n",
      "156. feature country_Congo The Democratic Republic of The (0.000003)\n",
      "157. feature country_Haiti (0.000003)\n",
      "158. feature country_Tanzania United Republic of (0.000003)\n",
      "159. feature country_Papua New Guinea (0.000003)\n",
      "160. feature country_New Caledonia (0.000002)\n",
      "161. feature country_Macau (0.000002)\n",
      "162. feature country_Cameroon (0.000002)\n",
      "163. feature country_Reunion (0.000002)\n",
      "164. feature country_Antigua and Barbuda (0.000002)\n",
      "165. feature country_Burkina Faso (0.000002)\n",
      "166. feature country_Ethiopia (0.000002)\n",
      "167. feature country_Faroe Islands (0.000001)\n",
      "168. feature country_Bhutan (0.000001)\n",
      "169. feature country_Yemen (0.000001)\n",
      "170. feature country_Fiji (0.000001)\n",
      "171. feature country_Bermuda (0.000001)\n",
      "172. feature country_South Sudan (0.000001)\n",
      "173. feature country_Gibraltar (0.000001)\n",
      "174. feature country_Vanuatu (0.000001)\n",
      "175. feature country_Lesotho (0.000001)\n",
      "176. feature country_Curacao (0.000000)\n",
      "177. feature country_Saint Kitts and Nevis (0.000000)\n",
      "178. feature country_Cayman Islands (0.000000)\n",
      "179. feature country_Dominica (0.000000)\n",
      "180. feature country_Djibouti (0.000000)\n",
      "181. feature country_Liechtenstein (0.000000)\n",
      "182. feature country_Niger (0.000000)\n",
      "183. feature country_Nauru (0.000000)\n",
      "184. feature country_San Marino (0.000000)\n",
      "185. feature country_Gambia (0.000000)\n",
      "186. feature country_Guadeloupe (0.000000)\n",
      "187. feature country_Burundi (0.000000)\n",
      "188. feature country_Saint Martin (0.000000)\n",
      "189. feature country_Myanmar (0.000000)\n",
      "190. feature country_Tajikistan (0.000000)\n",
      "191. feature country_Madagascar (0.000000)\n",
      "192. feature country_Cape Verde (0.000000)\n",
      "193. feature country_British Indian Ocean Territory (0.000000)\n"
     ]
    }
   ],
   "source": [
    "feature_list = X.columns\n",
    "std = np.std([tree.feature_importances_ for tree in RF.estimators_], axis=0)\n",
    "indices = np.argsort(importances)[::-1]\n",
    "\n",
    "# Print the feature ranking\n",
    "print(\"Feature ranking:\")\n",
    "\n",
    "for f in range(X.shape[1]):\n",
    "    print(\"%d. feature %s (%f)\" % (f + 1, feature_list[indices[f]], importances[indices[f]]))"
   ]
  },
  {
   "cell_type": "code",
   "execution_count": 46,
   "metadata": {},
   "outputs": [
    {
     "data": {
      "image/png": "[encoded data removed]",
      "text/plain": [
       "<Figure size 1080x864 with 1 Axes>"
      ]
     },
     "metadata": {
      "needs_background": "light"
     },
     "output_type": "display_data"
    }
   ],
   "source": [
    "## plot feature importances\n",
    "feature_names = X.columns \n",
    "\n",
    "indices = np.argsort(importances)[::-1]\n",
    "top_k = 10\n",
    "new_indices = indices[:top_k]\n",
    "features = feature_names[indices[:top_k]]\n",
    "\n",
    "\n",
    "# Plot the feature importances of the forest\n",
    "f, ax = plt.subplots(figsize=(15, 12))\n",
    "#plt.figure(figsize=(15, 12))\n",
    "plt.title(\"Feature importances\")\n",
    "#sns.set_color_codes(\"pastel\")\n",
    "sns.set_context(\"poster\")\n",
    "\n",
    "data_features = pd.DataFrame(list(zip(features, importances[new_indices])), columns = ['topk', 'importances'])\n",
    "data_feature = data_features.sort_values(\"importances\", ascending=False)\n",
    "sns.barplot(y = 'topk', x ='importances',data = data_feature, color=\"b\", ci = 'sd',  palette=\"Blues_d\")\n",
    "\n",
    "\n",
    "\n",
    "#ax.legend(ncol=2, loc=\"lower right\", frameon=True)\n",
    "ax.set( ylabel=\"\", xlabel=\"\")\n",
    "# sns.despine(left=True, bottom=True)\n",
    "ax.grid(False)"
   ]
  },
  {
   "cell_type": "markdown",
   "metadata": {},
   "source": [
    "we can see that the top features associated with fraud are **purchase_signup_diff, device_count, ip_count, purchase_value, age, Male, SEO, IE, safari, firefox**. The first 3 features are engineered features.\n",
    "\n",
    "Next, we want to further interpret the model, that is understand if the features gives positive or negative influence on fraud probabilities. We plot:\n",
    "- partial dependence plot of major variables\n",
    "- build a simple and small tree to look at the main splits"
   ]
  },
  {
   "cell_type": "code",
   "execution_count": null,
   "metadata": {},
   "outputs": [],
   "source": [
    "from sklearn.inspection import partial_dependence\n",
    "from sklearn.inspection import plot_partial_dependence\n",
    "\n",
    "features = features = [0, 1, (0, 1)]\n",
    "plot_partial_dependence(RF, X, features, n_jobs=3, grid_resolution=50) "
   ]
  },
  {
   "cell_type": "code",
   "execution_count": 52,
   "metadata": {},
   "outputs": [
    {
     "data": {
      "text/html": [
       "<div>\n",
       "<style scoped>\n",
       "    .dataframe tbody tr th:only-of-type {\n",
       "        vertical-align: middle;\n",
       "    }\n",
       "\n",
       "    .dataframe tbody tr th {\n",
       "        vertical-align: top;\n",
       "    }\n",
       "\n",
       "    .dataframe thead th {\n",
       "        text-align: right;\n",
       "    }\n",
       "</style>\n",
       "<table border=\"1\" class=\"dataframe\">\n",
       "  <thead>\n",
       "    <tr style=\"text-align: right;\">\n",
       "      <th></th>\n",
       "      <th>purchase_value</th>\n",
       "      <th>age</th>\n",
       "      <th>purchase_signup_diff</th>\n",
       "      <th>device_count</th>\n",
       "      <th>ip_count</th>\n",
       "      <th>source_Direct</th>\n",
       "      <th>source_SEO</th>\n",
       "      <th>browser_FireFox</th>\n",
       "      <th>browser_IE</th>\n",
       "      <th>browser_Opera</th>\n",
       "      <th>...</th>\n",
       "      <th>country_United States</th>\n",
       "      <th>country_Uruguay</th>\n",
       "      <th>country_Uzbekistan</th>\n",
       "      <th>country_Vanuatu</th>\n",
       "      <th>country_Venezuela</th>\n",
       "      <th>country_Viet Nam</th>\n",
       "      <th>country_Virgin Islands (U.S.)</th>\n",
       "      <th>country_Yemen</th>\n",
       "      <th>country_Zambia</th>\n",
       "      <th>country_Zimbabwe</th>\n",
       "    </tr>\n",
       "  </thead>\n",
       "  <tbody>\n",
       "    <tr>\n",
       "      <th>0</th>\n",
       "      <td>34</td>\n",
       "      <td>39</td>\n",
       "      <td>4506682.0</td>\n",
       "      <td>1</td>\n",
       "      <td>1</td>\n",
       "      <td>0</td>\n",
       "      <td>1</td>\n",
       "      <td>0</td>\n",
       "      <td>0</td>\n",
       "      <td>0</td>\n",
       "      <td>...</td>\n",
       "      <td>0</td>\n",
       "      <td>0</td>\n",
       "      <td>0</td>\n",
       "      <td>0</td>\n",
       "      <td>0</td>\n",
       "      <td>0</td>\n",
       "      <td>0</td>\n",
       "      <td>0</td>\n",
       "      <td>0</td>\n",
       "      <td>0</td>\n",
       "    </tr>\n",
       "    <tr>\n",
       "      <th>1</th>\n",
       "      <td>16</td>\n",
       "      <td>53</td>\n",
       "      <td>17944.0</td>\n",
       "      <td>1</td>\n",
       "      <td>1</td>\n",
       "      <td>0</td>\n",
       "      <td>0</td>\n",
       "      <td>0</td>\n",
       "      <td>0</td>\n",
       "      <td>0</td>\n",
       "      <td>...</td>\n",
       "      <td>1</td>\n",
       "      <td>0</td>\n",
       "      <td>0</td>\n",
       "      <td>0</td>\n",
       "      <td>0</td>\n",
       "      <td>0</td>\n",
       "      <td>0</td>\n",
       "      <td>0</td>\n",
       "      <td>0</td>\n",
       "      <td>0</td>\n",
       "    </tr>\n",
       "    <tr>\n",
       "      <th>2</th>\n",
       "      <td>15</td>\n",
       "      <td>53</td>\n",
       "      <td>1.0</td>\n",
       "      <td>12</td>\n",
       "      <td>12</td>\n",
       "      <td>0</td>\n",
       "      <td>1</td>\n",
       "      <td>0</td>\n",
       "      <td>0</td>\n",
       "      <td>1</td>\n",
       "      <td>...</td>\n",
       "      <td>1</td>\n",
       "      <td>0</td>\n",
       "      <td>0</td>\n",
       "      <td>0</td>\n",
       "      <td>0</td>\n",
       "      <td>0</td>\n",
       "      <td>0</td>\n",
       "      <td>0</td>\n",
       "      <td>0</td>\n",
       "      <td>0</td>\n",
       "    </tr>\n",
       "    <tr>\n",
       "      <th>3</th>\n",
       "      <td>15</td>\n",
       "      <td>53</td>\n",
       "      <td>1.0</td>\n",
       "      <td>12</td>\n",
       "      <td>12</td>\n",
       "      <td>0</td>\n",
       "      <td>1</td>\n",
       "      <td>0</td>\n",
       "      <td>0</td>\n",
       "      <td>1</td>\n",
       "      <td>...</td>\n",
       "      <td>1</td>\n",
       "      <td>0</td>\n",
       "      <td>0</td>\n",
       "      <td>0</td>\n",
       "      <td>0</td>\n",
       "      <td>0</td>\n",
       "      <td>0</td>\n",
       "      <td>0</td>\n",
       "      <td>0</td>\n",
       "      <td>0</td>\n",
       "    </tr>\n",
       "    <tr>\n",
       "      <th>4</th>\n",
       "      <td>15</td>\n",
       "      <td>53</td>\n",
       "      <td>1.0</td>\n",
       "      <td>12</td>\n",
       "      <td>12</td>\n",
       "      <td>0</td>\n",
       "      <td>1</td>\n",
       "      <td>0</td>\n",
       "      <td>0</td>\n",
       "      <td>1</td>\n",
       "      <td>...</td>\n",
       "      <td>1</td>\n",
       "      <td>0</td>\n",
       "      <td>0</td>\n",
       "      <td>0</td>\n",
       "      <td>0</td>\n",
       "      <td>0</td>\n",
       "      <td>0</td>\n",
       "      <td>0</td>\n",
       "      <td>0</td>\n",
       "      <td>0</td>\n",
       "    </tr>\n",
       "  </tbody>\n",
       "</table>\n",
       "<p>5 rows × 193 columns</p>\n",
       "</div>"
      ],
      "text/plain": [
       "   purchase_value  age  purchase_signup_diff  device_count  ip_count  \\\n",
       "0              34   39             4506682.0             1         1   \n",
       "1              16   53               17944.0             1         1   \n",
       "2              15   53                   1.0            12        12   \n",
       "3              15   53                   1.0            12        12   \n",
       "4              15   53                   1.0            12        12   \n",
       "\n",
       "   source_Direct  source_SEO  browser_FireFox  browser_IE  browser_Opera  \\\n",
       "0              0           1                0           0              0   \n",
       "1              0           0                0           0              0   \n",
       "2              0           1                0           0              1   \n",
       "3              0           1                0           0              1   \n",
       "4              0           1                0           0              1   \n",
       "\n",
       "         ...         country_United States  country_Uruguay  \\\n",
       "0        ...                             0                0   \n",
       "1        ...                             1                0   \n",
       "2        ...                             1                0   \n",
       "3        ...                             1                0   \n",
       "4        ...                             1                0   \n",
       "\n",
       "   country_Uzbekistan  country_Vanuatu  country_Venezuela  country_Viet Nam  \\\n",
       "0                   0                0                  0                 0   \n",
       "1                   0                0                  0                 0   \n",
       "2                   0                0                  0                 0   \n",
       "3                   0                0                  0                 0   \n",
       "4                   0                0                  0                 0   \n",
       "\n",
       "   country_Virgin Islands (U.S.)  country_Yemen  country_Zambia  \\\n",
       "0                              0              0               0   \n",
       "1                              0              0               0   \n",
       "2                              0              0               0   \n",
       "3                              0              0               0   \n",
       "4                              0              0               0   \n",
       "\n",
       "   country_Zimbabwe  \n",
       "0                 0  \n",
       "1                 0  \n",
       "2                 0  \n",
       "3                 0  \n",
       "4                 0  \n",
       "\n",
       "[5 rows x 193 columns]"
      ]
     },
     "execution_count": 52,
     "metadata": {},
     "output_type": "execute_result"
    }
   ],
   "source": [
    "# from sklearn.datasets import load_iris\n",
    "# iris = load_iris()\n",
    "# mc_clf = GradientBoostingClassifier(n_estimators=10, max_depth=1).fit(iris.data, iris.target)\n",
    "# features = [3, 2, (3, 2)]\n",
    "#f, ax = plt.subplots(figsize=(15, 12))\n",
    "#plot_partial_dependence(mc_clf, X, features, target=0) \n",
    "#X.head()"
   ]
  },
  {
   "cell_type": "markdown",
   "metadata": {},
   "source": [
    "## Product Sense"
   ]
  },
  {
   "cell_type": "markdown",
   "metadata": {},
   "source": [
    "If the model is used in real-time modeling work, based on the model output, what kind of user experience would you build?\n",
    "- The risk or fraud score in this case is the probability. (how would you define proability of fraud based on random forest or gradient boosting?)\n",
    "- if the predicted fraud < X, then allow the user to make the transaction. \n",
    "- if the predict fraud > X and < Z, medium risk, the make additional verification. (e.g. message or email verification). Z is the threshold set by marketing team or existing industrial criterion. \n",
    "- if the predict fraud probability > Z, tell the user his/her session is on-hold and send the user-info for someone to manually review."
   ]
  },
  {
   "cell_type": "code",
   "execution_count": null,
   "metadata": {},
   "outputs": [],
   "source": []
  }
 ],
 "metadata": {
  "kernelspec": {
   "display_name": "Python 3",
   "language": "python",
   "name": "python3"
  },
  "language_info": {
   "codemirror_mode": {
    "name": "ipython",
    "version": 3
   },
   "file_extension": ".py",
   "mimetype": "text/x-python",
   "name": "python",
   "nbconvert_exporter": "python",
   "pygments_lexer": "ipython3",
   "version": "3.7.1"
  },
  "toc": {
   "base_numbering": 1,
   "nav_menu": {},
   "number_sections": true,
   "sideBar": true,
   "skip_h1_title": false,
   "title_cell": "Table of Contents",
   "title_sidebar": "Contents",
   "toc_cell": false,
   "toc_position": {},
   "toc_section_display": true,
   "toc_window_display": false
  }
 },
 "nbformat": 4,
 "nbformat_minor": 2
}
